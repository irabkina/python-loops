{
 "cells": [
  {
   "cell_type": "markdown",
   "metadata": {},
   "source": [
    "# Teaching Loops With Cards and Python\n",
    "\n",
    "<img src=\"https://images-na.ssl-images-amazon.com/images/I/51rvmC5CtSL._SL1000_.jpg\" alt=\"Python Cards\" style=\"width: 300px;\"/>"
   ]
  },
  {
   "cell_type": "markdown",
   "metadata": {},
   "source": [
    "## Create decks of cards"
   ]
  },
  {
   "cell_type": "code",
   "execution_count": null,
   "metadata": {},
   "outputs": [],
   "source": [
    "from cards.cards import *"
   ]
  },
  {
   "cell_type": "code",
   "execution_count": null,
   "metadata": {},
   "outputs": [],
   "source": [
    "# Create a single card using its suit and rank\n",
    "Card(\"spades\", \"A\")"
   ]
  },
  {
   "cell_type": "code",
   "execution_count": null,
   "metadata": {},
   "outputs": [],
   "source": [
    "# Create a full ordered deck of cards\n",
    "print(full_deck())"
   ]
  },
  {
   "cell_type": "code",
   "execution_count": null,
   "metadata": {},
   "outputs": [],
   "source": [
    "# Create a small random deck of a given size\n",
    "safe_small_random_deck(5)"
   ]
  },
  {
   "cell_type": "code",
   "execution_count": null,
   "metadata": {},
   "outputs": [],
   "source": [
    "# Create a deck from the cards you have in your hand\n",
    "# ** REPLACE WITH YOUR OWN DECK **\n",
    "deck = deck_from_list([\n",
    "    (\"diamonds\", \"A\"), \n",
    "    (\"hearts\", \"4\")\n",
    "])\n",
    "deck"
   ]
  },
  {
   "cell_type": "markdown",
   "metadata": {},
   "source": [
    "## 1. Find the highest value Heart in your deck"
   ]
  },
  {
   "cell_type": "code",
   "execution_count": null,
   "metadata": {},
   "outputs": [],
   "source": [
    "\"\"\"\n",
    "Finds the highest ranked hearts card in the deck\n",
    "\"\"\"\n",
    "def find_highest_heart(deck: List[Card]) -> Card:\n",
    "    # prepare variable to store intermediate answers\n",
    "    highest_heart = None\n",
    "    \n",
    "    # loop over all the cards in you deck\n",
    "    # ** ADD CODE HERE ** \n",
    "        # check the suit\n",
    "        if card.suit=='hearts':\n",
    "            # the first heart is automatically the highest\n",
    "            if highest_heart == None:\n",
    "                highest_heart = card\n",
    "            else:\n",
    "                # otherwise, need to check if it's bigger than the previously seen heart\n",
    "                if card > highest_heart:\n",
    "                    highest_heart = card\n",
    "    return highest_heart"
   ]
  },
  {
   "cell_type": "code",
   "execution_count": null,
   "metadata": {},
   "outputs": [],
   "source": [
    "find_highest_heart(deck)"
   ]
  },
  {
   "cell_type": "markdown",
   "metadata": {},
   "source": [
    "## 2. Find the highest value Diamond in your deck that is in an even location (index)\n",
    "\n",
    "The first card at the top is at location/index 0."
   ]
  },
  {
   "cell_type": "code",
   "execution_count": null,
   "metadata": {},
   "outputs": [],
   "source": [
    "def find_highest_even_diamond(deck: List[Card]) -> Card:\n",
    "    # prepare variable to store intermediate answers\n",
    "    highest_even_diamond = None\n",
    "    \n",
    "    #loop over the indices of your list\n",
    "    # ** ADD CODE HERE **\n",
    "        \n",
    "        # check if index is even\n",
    "        if index%2==0:\n",
    "            card = deck[index]\n",
    "            \n",
    "            # the rest is the same as the hearts example above (but with diamonds)\n",
    "            if card.suit==\"diamonds\":\n",
    "                if highest_even_diamond == None:\n",
    "                    highest_even_diamond = card\n",
    "                else:\n",
    "                    if card > highest_heart:\n",
    "                        highest_even_diamond = card\n",
    "    return highest_even_diamond"
   ]
  },
  {
   "cell_type": "code",
   "execution_count": null,
   "metadata": {},
   "outputs": [],
   "source": [
    "find_highest_even_diamond(deck)"
   ]
  },
  {
   "cell_type": "markdown",
   "metadata": {},
   "source": [
    "## 3. Find the highest value card in the first seven of your deck."
   ]
  },
  {
   "cell_type": "code",
   "execution_count": null,
   "metadata": {},
   "outputs": [],
   "source": [
    "def find_highest_in_seven(deck: List[Card]) -> Card:\n",
    "    # prepare variable to store intermediate answers\n",
    "    highest = None\n",
    "                          \n",
    "    # loop over 7 indices (HINT: range may be helpful here)                    \n",
    "    # ** ADD CODE HERE **\n",
    "    \n",
    "        # grab the card in that location\n",
    "        card = # ** ADD CODE HERE **\n",
    "        \n",
    "        # first card is automatically highest\n",
    "        if highest == None:\n",
    "            highest = card\n",
    "        # otherwise, needs to be bigger than previous highest card\n",
    "        elif card > highest:\n",
    "            highest = card\n",
    "    return highest"
   ]
  },
  {
   "cell_type": "code",
   "execution_count": null,
   "metadata": {},
   "outputs": [],
   "source": [
    "find_highest_in_seven(deck)"
   ]
  },
  {
   "cell_type": "markdown",
   "metadata": {},
   "source": [
    "## 4. Separate your cards into 3 piles. Count the number of cards in each pile."
   ]
  },
  {
   "cell_type": "code",
   "execution_count": null,
   "metadata": {},
   "outputs": [],
   "source": [
    "def count_three_piles(piles: List[List[Card]]) -> List[Card]:\n",
    "    # prepare to collect counts\n",
    "    counts = []\n",
    "    \n",
    "    # loop over piles\n",
    "     # ** ADD CODE HERE **\n",
    "        \n",
    "        # set up counter for this pile\n",
    "        count = 0\n",
    "        \n",
    "        # loop over cards in this pile\n",
    "         # ** ADD CODE HERE **\n",
    "            # count each card\n",
    "            count += 1\n",
    "            \n",
    "        # store the length of this pile\n",
    "        counts.append(count)\n",
    "        \n",
    "    return counts"
   ]
  },
  {
   "cell_type": "markdown",
   "metadata": {},
   "source": [
    "## 5. Look at the value of the top card in your deck. Put it on the bottom.  Forever."
   ]
  },
  {
   "cell_type": "code",
   "execution_count": null,
   "metadata": {},
   "outputs": [],
   "source": [
    "def infinite_loop(deck):\n",
    "    # the check will always be True\n",
    "     # ** ADD CODE HERE **\n",
    "        \n",
    "        # grab the first card\n",
    "        first_card = d.pop(0)\n",
    "        # put it on the bottom\n",
    "        d.append(first_card)\n",
    "    "
   ]
  },
  {
   "cell_type": "markdown",
   "metadata": {},
   "source": [
    "## 6. Draw cards until the sum of their values reaches (or passes) 21.   "
   ]
  },
  {
   "cell_type": "code",
   "execution_count": null,
   "metadata": {},
   "outputs": [],
   "source": [
    "d = shuffle(deck.copy())"
   ]
  },
  {
   "cell_type": "code",
   "execution_count": null,
   "metadata": {},
   "outputs": [],
   "source": [
    "def at_least_21(deck):\n",
    "    # set up counter\n",
    "    counter = 0\n",
    "    \n",
    "    # keep going if 21 has not been reached\n",
    "     # ** ADD CODE HERE **\n",
    "       \n",
    "    # get the top card from the deck\n",
    "        card = deck.pop(0)\n",
    "        # add its value to your counter (HINT: use card.value)\n",
    "         # ** ADD CODE HERE **\n",
    "    \n",
    "    return counter"
   ]
  },
  {
   "cell_type": "code",
   "execution_count": null,
   "metadata": {},
   "outputs": [],
   "source": [
    "at_least_21(d)"
   ]
  },
  {
   "cell_type": "markdown",
   "metadata": {},
   "source": [
    "## 7. Deal 5 cards to each of 3 players."
   ]
  },
  {
   "cell_type": "code",
   "execution_count": null,
   "metadata": {},
   "outputs": [],
   "source": [
    "def deal_5_to_3(deck):\n",
    "    # prepare to grab decks\n",
    "    player_decks = []\n",
    "    \n",
    "    # loop over players\n",
    "    # ** ADD CODE HERE **    \n",
    "        # ** ADD CODE HERE **\n",
    "        \n",
    "        # loop over cards in your deck (or make sure each player has 5 cards)\n",
    "        # ** ADD CODE HERE **\n",
    "            # ** ADD CODE HERE **\n",
    "    \n",
    "    return player_decks"
   ]
  },
  {
   "cell_type": "markdown",
   "metadata": {},
   "source": [
    "## 8. CHALLENGE: The Game of War\n",
    "\n",
    "Two players each get a deck of card. They both flip the top card in their deck. Whosever card has the highest value (assume A=1, J=11, Q=12, K=13) adds both cards to the bottom of their deck. If the values are the same, set the cards aside. The game ends when one person is out of cards."
   ]
  },
  {
   "cell_type": "code",
   "execution_count": null,
   "metadata": {},
   "outputs": [],
   "source": [
    "d1 = small_random_deck(5)\n",
    "d2 = small_random_deck(5)"
   ]
  },
  {
   "cell_type": "code",
   "execution_count": null,
   "metadata": {},
   "outputs": [],
   "source": [
    "def game_of_war(deck1, deck2):\n",
    "    \n",
    "    # how do you know whether to keep going?\n",
    "    # what do you do at each step?\n",
    "\n",
    "    return winner"
   ]
  }
 ],
 "metadata": {
  "kernelspec": {
   "display_name": "Python 3",
   "language": "python",
   "name": "python3"
  },
  "language_info": {
   "codemirror_mode": {
    "name": "ipython",
    "version": 3
   },
   "file_extension": ".py",
   "mimetype": "text/x-python",
   "name": "python",
   "nbconvert_exporter": "python",
   "pygments_lexer": "ipython3",
   "version": "3.7.3"
  }
 },
 "nbformat": 4,
 "nbformat_minor": 4
}
